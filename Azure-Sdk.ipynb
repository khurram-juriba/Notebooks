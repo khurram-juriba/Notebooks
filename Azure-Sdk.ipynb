{
 "cells": [
  {
   "cell_type": "code",
   "execution_count": null,
   "metadata": {
    "dotnet_interactive": {
     "language": "csharp"
    },
    "polyglot_notebook": {
     "kernelName": "csharp"
    }
   },
   "outputs": [],
   "source": [
    "string clientId = \"\";\n",
    "string clientSecret = \"\";\n",
    "string tenantId = \"\";\n",
    "string resourceGroup = \"\";\n",
    "string subscriptionId = \"\";"
   ]
  },
  {
   "cell_type": "code",
   "execution_count": null,
   "metadata": {
    "dotnet_interactive": {
     "language": "csharp"
    },
    "polyglot_notebook": {
     "kernelName": "csharp"
    }
   },
   "outputs": [],
   "source": [
    "#r \"nuget: Azure.Identity, *-*\"\n",
    "#r \"nuget: Azure.ResourceManager.Compute, *-*\"\n",
    "#r \"nuget: Azure.ResourceManager.Network, *-*\"\n",
    "#r \"nuget: Azure.ResourceManager.Resources, *-*\""
   ]
  },
  {
   "cell_type": "code",
   "execution_count": null,
   "metadata": {
    "dotnet_interactive": {
     "language": "csharp"
    },
    "polyglot_notebook": {
     "kernelName": "csharp"
    }
   },
   "outputs": [],
   "source": [
    "using Azure.Identity;\n",
    "using Azure.ResourceManager;\n",
    "\n",
    "var credentials = new ClientSecretCredential(tenantId, clientId, clientSecret);\n",
    "var armClient = new ArmClient(credentials, subscriptionId);"
   ]
  },
  {
   "cell_type": "code",
   "execution_count": null,
   "metadata": {
    "dotnet_interactive": {
     "language": "csharp"
    },
    "polyglot_notebook": {
     "kernelName": "csharp"
    }
   },
   "outputs": [],
   "source": [
    "var subscription = armClient.GetDefaultSubscription();\n",
    "var resource = subscription.GetResourceGroup(resourceGroup).Value;"
   ]
  },
  {
   "cell_type": "code",
   "execution_count": null,
   "metadata": {
    "dotnet_interactive": {
     "language": "csharp"
    },
    "polyglot_notebook": {
     "kernelName": "csharp"
    }
   },
   "outputs": [],
   "source": [
    "using Azure.ResourceManager.Compute;\n",
    "\n",
    "var vmCollection = resource.GetVirtualMachines();\n",
    "var vms = vmCollection.GetAll();\n",
    "\n",
    "foreach (var vm in vms)\n",
    "{\n",
    "    Console.WriteLine($\"{vm.Id} - {vm.Data.Name}\");\n",
    "\n",
    "    foreach(var n in vm.Data.NetworkProfile.NetworkInterfaces)\n",
    "        Console.WriteLine($\"\\t{n.Id} - {n.Primary}\");\n",
    "}"
   ]
  },
  {
   "cell_type": "code",
   "execution_count": null,
   "metadata": {
    "dotnet_interactive": {
     "language": "csharp"
    },
    "polyglot_notebook": {
     "kernelName": "csharp"
    }
   },
   "outputs": [],
   "source": [
    "using Azure.ResourceManager.Compute;\n",
    "\n",
    "string resourceGroup = \"\";\n",
    "string virtualMachineName = \"\";\n",
    "\n",
    "var resource = subscription.GetResourceGroup(resourceGroup).Value;\n",
    "var vm = resource.GetVirtualMachine(virtualMachineName).Value;\n",
    "vm"
   ]
  },
  {
   "cell_type": "code",
   "execution_count": null,
   "metadata": {
    "dotnet_interactive": {
     "language": "csharp"
    },
    "polyglot_notebook": {
     "kernelName": "csharp"
    }
   },
   "outputs": [],
   "source": [
    "using Azure.Core;\n",
    "\n",
    "string resourceId = \"\";\n",
    "var id = new ResourceIdentifier(resourceId);\n",
    "\n",
    "Console.WriteLine($\"Name: {id.Name}\");\n",
    "Console.WriteLine($\"Subscription: {id.SubscriptionId}\");\n",
    "Console.WriteLine($\"ResourceGroup: {id.ResourceGroupName}\");"
   ]
  },
  {
   "cell_type": "code",
   "execution_count": null,
   "metadata": {
    "dotnet_interactive": {
     "language": "csharp"
    },
    "polyglot_notebook": {
     "kernelName": "csharp"
    }
   },
   "outputs": [],
   "source": [
    "// https://github.com/Azure/azure-sdk-for-net/blob/main/sdk/compute/Azure.ResourceManager.Compute/samples/Sample2_ManagingVirtualMachines.md\n",
    "\n",
    "var op = await vm.PowerOnAsync(Azure.WaitUntil.Completed); //another option is to use Azure.WaitUntil.Started\n",
    "op.HasCompleted"
   ]
  },
  {
   "cell_type": "code",
   "execution_count": null,
   "metadata": {
    "dotnet_interactive": {
     "language": "csharp"
    },
    "polyglot_notebook": {
     "kernelName": "csharp"
    }
   },
   "outputs": [],
   "source": [
    "var op = await vm.DeallocateAsync(Azure.WaitUntil.Completed);\n",
    "op.HasCompleted"
   ]
  },
  {
   "cell_type": "code",
   "execution_count": null,
   "metadata": {
    "dotnet_interactive": {
     "language": "csharp"
    },
    "polyglot_notebook": {
     "kernelName": "csharp"
    }
   },
   "outputs": [],
   "source": [
    "var disks = resource.GetManagedDisks();\n",
    "foreach(var disk in disks.GetAll())\n",
    "    Console.WriteLine(disk.Data.Name);"
   ]
  },
  {
   "cell_type": "code",
   "execution_count": null,
   "metadata": {
    "dotnet_interactive": {
     "language": "csharp"
    },
    "polyglot_notebook": {
     "kernelName": "csharp"
    }
   },
   "outputs": [],
   "source": [
    "// https://github.com/Azure/azure-sdk-for-net/blob/Azure.ResourceManager.Compute_1.1.0/sdk/compute/Azure.ResourceManager.Compute/samples/Generated/Samples/Sample_VirtualMachineResource.cs\n",
    "\n",
    "// https://github.com/Azure/azure-sdk-for-net/blob/Azure.ResourceManager.Compute_1.1.0/sdk/compute/Azure.ResourceManager.Compute/samples/Sample1_ManagingDisks.md\n",
    "// https://github.com/Azure/azure-sdk-for-net/blob/Azure.ResourceManager.Compute_1.1.0/sdk/compute/Azure.ResourceManager.Compute/samples/Generated/Samples/Sample_SnapshotResource.cs\n",
    "\n",
    "using Azure;\n",
    "using Azure.ResourceManager.Compute.Models;\n",
    "\n",
    "var osDisk = vm.Data.StorageProfile.OSDisk;\n",
    "var disk = osDisk.ManagedDisk;\n",
    "\n",
    "var snapshotName = \"\";\n",
    "var snapshots = resource.GetSnapshots();\n",
    "var snapshotData = new SnapshotData(vm.Data.Location)\n",
    "{\n",
    "    CreationData = new DiskCreationData(DiskCreateOption.Copy)\n",
    "    {\n",
    "        SourceResourceId = disk.Id\n",
    "    }\n",
    "};\n",
    "\n",
    "var op = snapshots.CreateOrUpdate(WaitUntil.Completed, snapshotName, snapshotData);\n",
    "var snapshot = op.Value;\n",
    "snapshot"
   ]
  }
 ],
 "metadata": {
  "kernelspec": {
   "display_name": ".NET (C#)",
   "language": "C#",
   "name": ".net-csharp"
  },
  "language_info": {
   "name": "polyglot-notebook"
  },
  "orig_nbformat": 4,
  "polyglot_notebook": {
   "kernelInfo": {
    "defaultKernelName": "csharp",
    "items": [
     {
      "aliases": [],
      "name": "csharp"
     }
    ]
   }
  }
 },
 "nbformat": 4,
 "nbformat_minor": 2
}
