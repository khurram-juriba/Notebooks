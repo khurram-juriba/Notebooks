{
 "cells": [
  {
   "cell_type": "code",
   "execution_count": 2,
   "metadata": {
    "dotnet_interactive": {
     "language": "csharp"
    },
    "polyglot_notebook": {
     "kernelName": "csharp"
    }
   },
   "outputs": [],
   "source": [
    "[Flags]\n",
    "public enum MachineHypervisorStates\n",
    "{\n",
    "    None = 0,\n",
    "    Starting = 1,\n",
    "    Stopping = 2,\n",
    "    Stopped = 4,\n",
    "    Clean = 8,\n",
    "\n",
    "    ApplyingSnapshot = 16,\n",
    "    AppliedSnapshot = 32,\n",
    "    ApplyingSnapshotError = 64,\n",
    "    Maintenance = 128,\n",
    "\n",
    "    /// <summary>\n",
    "    /// int value of 44\n",
    "    /// </summary>\n",
    "    OffAndClean = Stopped | Clean | AppliedSnapshot\n",
    "}"
   ]
  },
  {
   "cell_type": "code",
   "execution_count": 3,
   "metadata": {
    "dotnet_interactive": {
     "language": "csharp"
    },
    "polyglot_notebook": {
     "kernelName": "csharp"
    }
   },
   "outputs": [
    {
     "name": "stdout",
     "output_type": "stream",
     "text": [
      "ApplyingSnapshot\n",
      "Maintenance\n"
     ]
    }
   ],
   "source": [
    "int value = 144;\n",
    "\n",
    "foreach (MachineHypervisorStates state in Enum.GetValues(typeof(MachineHypervisorStates)))\n",
    "{\n",
    "    if ((value & (int)state) != 0)\n",
    "    {\n",
    "        Console.WriteLine(state);\n",
    "    }\n",
    "}"
   ]
  }
 ],
 "metadata": {
  "kernelspec": {
   "display_name": ".NET (C#)",
   "language": "C#",
   "name": ".net-csharp"
  },
  "language_info": {
   "name": "polyglot-notebook"
  },
  "polyglot_notebook": {
   "kernelInfo": {
    "defaultKernelName": "csharp",
    "items": [
     {
      "aliases": [],
      "name": "csharp"
     }
    ]
   }
  }
 },
 "nbformat": 4,
 "nbformat_minor": 2
}
