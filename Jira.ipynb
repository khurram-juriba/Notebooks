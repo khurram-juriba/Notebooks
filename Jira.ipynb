{
 "cells": [
  {
   "cell_type": "markdown",
   "metadata": {},
   "source": [
    "# Setup"
   ]
  },
  {
   "cell_type": "code",
   "execution_count": null,
   "metadata": {
    "dotnet_interactive": {
     "language": "csharp"
    },
    "polyglot_notebook": {
     "kernelName": "csharp"
    },
    "vscode": {
     "languageId": "polyglot-notebook"
    }
   },
   "outputs": [],
   "source": [
    "#r \"nuget: Dapplo.Jira, *-*\""
   ]
  },
  {
   "cell_type": "code",
   "execution_count": null,
   "metadata": {
    "dotnet_interactive": {
     "language": "csharp"
    },
    "polyglot_notebook": {
     "kernelName": "csharp"
    },
    "vscode": {
     "languageId": "polyglot-notebook"
    }
   },
   "outputs": [],
   "source": [
    "var url = Environment.GetEnvironmentVariable(\"JIRA_URL\");\n",
    "var user = Environment.GetEnvironmentVariable(\"JIRA_USER\");\n",
    "var token = Environment.GetEnvironmentVariable(\"JIRA_TOKEN\");"
   ]
  },
  {
   "cell_type": "code",
   "execution_count": null,
   "metadata": {
    "dotnet_interactive": {
     "language": "csharp"
    },
    "polyglot_notebook": {
     "kernelName": "csharp"
    },
    "vscode": {
     "languageId": "polyglot-notebook"
    }
   },
   "outputs": [],
   "source": [
    "using Dapplo.Jira;\n",
    "using Dapplo.Jira.Entities;\n",
    "using Dapplo.Jira.Query;\n",
    "\n",
    "IJiraClient jiraClient = JiraClient.Create(new Uri(url));\n",
    "jiraClient.SetBasicAuthentication(user, token);\n",
    "\n",
    "var fields = await jiraClient.Server.GetFieldsAsync();"
   ]
  },
  {
   "cell_type": "markdown",
   "metadata": {},
   "source": [
    "## Random Jira Stuff"
   ]
  },
  {
   "cell_type": "code",
   "execution_count": null,
   "metadata": {
    "dotnet_interactive": {
     "language": "csharp"
    },
    "polyglot_notebook": {
     "kernelName": "csharp"
    },
    "vscode": {
     "languageId": "polyglot-notebook"
    }
   },
   "outputs": [],
   "source": [
    "var fieldDocumentation = fields.FirstOrDefault(x => x.Name == \"Upgrade Notes Required\");\n",
    "fieldDocumentation"
   ]
  },
  {
   "cell_type": "code",
   "execution_count": null,
   "metadata": {
    "dotnet_interactive": {
     "language": "csharp"
    },
    "polyglot_notebook": {
     "kernelName": "csharp"
    },
    "vscode": {
     "languageId": "polyglot-notebook"
    }
   },
   "outputs": [],
   "source": [
    "//var jql = Where.Text.Contains(\"My Cool Service\");\n",
    "//var searchResult = await jiraClient.Issue.SearchAsync(jql);\n",
    "using Dapplo.Jira.Entities;\n",
    "\n",
    "var customFieldId = \"customfield_13130\";\n",
    "var searchResult = await jiraClient.Issue.SearchAsync(\"project = aa and key in (1, 2)\");\n",
    "\n",
    "foreach (var issue in searchResult.Issues)\n",
    "{\n",
    "    Console.WriteLine($\"{issue.Key} [{issue.Fields.Status.Name}] {issue.Fields.Summary}\");\n",
    "\n",
    "    //KeyValuePair<string, object> documentation = issue.Fields.CustomFields.FirstOrDefault(x => x.Key == fieldDocumentation.Id);\n",
    "    //Console.WriteLine($\" {documentation.Key}:{documentation.Value}\");\n",
    "\n",
    "    //issue.Fields[customFieldId] = \"No\";\n",
    "    // issue.Fields.DynamicProperties[customFieldId] = \"No\";\n",
    "    // issue.Fields.SetCustomField(customFieldId, \"Noc\");\n",
    "    // var updatedIssue = await jiraClient.Issue.PutAsync(issue);\n",
    "\n",
    "    var updateIssue = new IssueEdit\n",
    "    {\n",
    "        Fields = new IssueFields()\n",
    "    };\n",
    "    updateIssue.Fields.CustomFields[customFieldId] = \"No\";\n",
    "    \n",
    "    await jiraClient.Issue.EditAsync(issue.Key, updateIssue);\n",
    "}"
   ]
  }
 ],
 "metadata": {
  "kernelspec": {
   "display_name": ".NET (C#)",
   "language": "C#",
   "name": ".net-csharp"
  },
  "language_info": {
   "name": "powershell"
  },
  "orig_nbformat": 4,
  "polyglot_notebook": {
   "kernelInfo": {
    "defaultKernelName": "csharp",
    "items": [
     {
      "aliases": [],
      "name": "csharp"
     }
    ]
   }
  }
 },
 "nbformat": 4,
 "nbformat_minor": 2
}
