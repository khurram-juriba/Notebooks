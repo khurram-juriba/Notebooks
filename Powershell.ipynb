{
 "cells": [
  {
   "cell_type": "code",
   "execution_count": null,
   "metadata": {
    "dotnet_interactive": {
     "language": "csharp"
    },
    "polyglot_notebook": {
     "kernelName": "csharp"
    },
    "vscode": {
     "languageId": "polyglot-notebook"
    }
   },
   "outputs": [],
   "source": [
    "//Creating\n",
    "using System.IO;\n",
    "\n",
    "if (!Directory.Exists(@\"C:\\packages\")) Directory.CreateDirectory(@\"C:\\packages\");\n",
    "\n",
    "using (var sw = new StreamWriter(@\"C:\\packages\\file1.txt\"))\n",
    "{\n",
    "    sw.WriteLine($\"Hello world\");\n",
    "}"
   ]
  },
  {
   "cell_type": "code",
   "execution_count": null,
   "metadata": {
    "dotnet_interactive": {
     "language": "csharp"
    },
    "polyglot_notebook": {
     "kernelName": "csharp"
    },
    "vscode": {
     "languageId": "polyglot-notebook"
    }
   },
   "outputs": [],
   "source": [
    "//Locking\n",
    "using System.IO;\n",
    "\n",
    "var open = FileMode.Open;\n",
    "var access = FileAccess.Read;\n",
    "var share = FileShare.None;\n",
    "\n",
    "var f = File.Open(@\"C:\\packages\\file1.txt\", open, access, share);"
   ]
  },
  {
   "cell_type": "code",
   "execution_count": null,
   "metadata": {
    "dotnet_interactive": {
     "language": "csharp"
    },
    "polyglot_notebook": {
     "kernelName": "csharp"
    },
    "vscode": {
     "languageId": "polyglot-notebook"
    }
   },
   "outputs": [],
   "source": [
    "//Copying\n",
    "using System;\n",
    "using System.IO;\n",
    "\n",
    "var temp = Path.Combine(Path.GetTempPath(), $\"{Guid.NewGuid()}.txt\");\n",
    "File.Copy(@\"C:\\packages\\file1.txt\", temp);\n",
    "temp"
   ]
  },
  {
   "cell_type": "code",
   "execution_count": null,
   "metadata": {
    "dotnet_interactive": {
     "language": "csharp"
    },
    "polyglot_notebook": {
     "kernelName": "csharp"
    },
    "vscode": {
     "languageId": "polyglot-notebook"
    }
   },
   "outputs": [],
   "source": [
    "//Cleanup\n",
    "f.Dispose();"
   ]
  },
  {
   "cell_type": "code",
   "execution_count": null,
   "metadata": {
    "dotnet_interactive": {
     "language": "pwsh"
    },
    "polyglot_notebook": {
     "kernelName": "pwsh"
    },
    "vscode": {
     "languageId": "polyglot-notebook"
    }
   },
   "outputs": [],
   "source": [
    "#Powershell\n",
    "\n",
    "$open = [System.IO.FileMode]::Open\n",
    "$access = [System.IO.FileAccess]::Read\n",
    "$share = [System.IO.FileShare]::None\n",
    "\n",
    "$f = [System.IO.File]::Open(\"C:\\packages\\file1.txt\", $open, $access, $share)"
   ]
  },
  {
   "cell_type": "code",
   "execution_count": null,
   "metadata": {
    "dotnet_interactive": {
     "language": "pwsh"
    },
    "polyglot_notebook": {
     "kernelName": "pwsh"
    },
    "vscode": {
     "languageId": "polyglot-notebook"
    }
   },
   "outputs": [],
   "source": [
    "$f.Dispose();"
   ]
  },
  {
   "cell_type": "code",
   "execution_count": null,
   "metadata": {
    "dotnet_interactive": {
     "language": "pwsh"
    },
    "polyglot_notebook": {
     "kernelName": "pwsh"
    },
    "vscode": {
     "languageId": "polyglot-notebook"
    }
   },
   "outputs": [],
   "source": [
    "$path1 = Join-Path $pwd \"large1.dat\"\n",
    "$path2 = Join-Path $pwd \"large2.dat\"\n",
    "$path3 = Join-Path $pwd \"large3.dat\"\n",
    "\n",
    "$size = 1.9GB\n",
    "$content = New-Object byte[] $size\n",
    "\n",
    "(New-Object System.Random).NextBytes($content)\n",
    "[System.IO.File]::WriteAllBytes($path1, $content)\n",
    "\n",
    "(New-Object System.Random).NextBytes($content)\n",
    "[System.IO.File]::WriteAllBytes($path2, $content)\n",
    "\n",
    "(New-Object System.Random).NextBytes($content)\n",
    "[System.IO.File]::WriteAllBytes($path3, $content)"
   ]
  }
 ],
 "metadata": {
  "kernelspec": {
   "display_name": ".NET (C#)",
   "language": "C#",
   "name": ".net-csharp"
  },
  "language_info": {
   "name": "powershell"
  },
  "orig_nbformat": 4,
  "polyglot_notebook": {
   "kernelInfo": {
    "defaultKernelName": "csharp",
    "items": [
     {
      "aliases": [],
      "name": "csharp"
     }
    ]
   }
  }
 },
 "nbformat": 4,
 "nbformat_minor": 2
}
