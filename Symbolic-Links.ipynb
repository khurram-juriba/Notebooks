{
 "cells": [
  {
   "cell_type": "code",
   "execution_count": null,
   "metadata": {
    "dotnet_interactive": {
     "language": "csharp"
    },
    "polyglot_notebook": {
     "kernelName": "csharp"
    }
   },
   "outputs": [],
   "source": [
    "using System.IO;\n",
    "\n",
    "var filePath = @\"D:\\test\\Chrome.lnk\";\n",
    "\n",
    "var fi = new FileInfo(filePath);\n",
    "\n",
    "var writeTime = fi.LastWriteTimeUtc.Ticks;\n",
    "var length = fi.Length;\n",
    "var fa = fi.Attributes;\n",
    "var fileAttributes = (int)fa;\n",
    "//so far we are doing what client tools doing\n",
    "\n",
    "bool isSymbolicLink = (fa & FileAttributes.ReparsePoint) == FileAttributes.ReparsePoint;\n",
    "isSymbolicLink"
   ]
  },
  {
   "cell_type": "code",
   "execution_count": null,
   "metadata": {
    "dotnet_interactive": {
     "language": "csharp"
    },
    "polyglot_notebook": {
     "kernelName": "csharp"
    }
   },
   "outputs": [],
   "source": [
    "using System.IO;\n",
    "using System.ComponentModel;\n",
    "using System.Runtime.InteropServices;\n",
    "\n",
    "readonly IntPtr INVALID_HANDLE_VALUE = new IntPtr(-1);\n",
    "\n",
    "const uint FILE_READ_EA = 0x0008;\n",
    "const uint FILE_FLAG_BACKUP_SEMANTICS = 0x2000000;\n",
    "\n",
    "[DllImport(\"Kernel32.dll\", SetLastError = true, CharSet = CharSet.Auto)]\n",
    "static extern uint GetFinalPathNameByHandle(IntPtr hFile, [MarshalAs(UnmanagedType.LPTStr)] StringBuilder lpszFilePath, uint cchFilePath, uint dwFlags);\n",
    "\n",
    "[DllImport(\"kernel32.dll\", SetLastError = true)]\n",
    "[return: MarshalAs(UnmanagedType.Bool)]\n",
    "static extern bool CloseHandle(IntPtr hObject);\n",
    "\n",
    "[DllImport(\"kernel32.dll\", CharSet = CharSet.Auto, SetLastError = true)]\n",
    "static extern IntPtr CreateFile(\n",
    "        [MarshalAs(UnmanagedType.LPTStr)] string filename,\n",
    "        [MarshalAs(UnmanagedType.U4)] uint access,\n",
    "        [MarshalAs(UnmanagedType.U4)] FileShare share,\n",
    "        IntPtr securityAttributes, // optional SECURITY_ATTRIBUTES struct or IntPtr.Zero\n",
    "        [MarshalAs(UnmanagedType.U4)] FileMode creationDisposition,\n",
    "        [MarshalAs(UnmanagedType.U4)] uint flagsAndAttributes,\n",
    "        IntPtr templateFile);\n",
    "\n",
    "string GetFinalPathName(string path)\n",
    "{\n",
    "    var h = CreateFile(path,\n",
    "        FILE_READ_EA,\n",
    "        FileShare.ReadWrite | FileShare.Delete,\n",
    "        IntPtr.Zero,\n",
    "        FileMode.Open,\n",
    "        FILE_FLAG_BACKUP_SEMANTICS,\n",
    "        IntPtr.Zero);\n",
    "    if (h == INVALID_HANDLE_VALUE)\n",
    "        throw new Win32Exception();\n",
    "\n",
    "    try\n",
    "    {\n",
    "        var sb = new StringBuilder(1024);\n",
    "        var res = GetFinalPathNameByHandle(h, sb, 1024, 0);\n",
    "        if (res == 0)\n",
    "            throw new Win32Exception();\n",
    "\n",
    "        var finalPath = sb.ToString();\n",
    "        if (finalPath.StartsWith(@\"\\\\?\\\"))\n",
    "            return finalPath.Substring(4);\n",
    "        else\n",
    "            return finalPath;\n",
    "    }\n",
    "    finally\n",
    "    {\n",
    "        CloseHandle(h);\n",
    "    }\n",
    "}"
   ]
  },
  {
   "cell_type": "code",
   "execution_count": null,
   "metadata": {
    "dotnet_interactive": {
     "language": "csharp"
    },
    "polyglot_notebook": {
     "kernelName": "csharp"
    }
   },
   "outputs": [],
   "source": [
    "var symbolicLinkPath = @\"D:\\test\\Chrome.lnk\";\n",
    "GetFinalPathName(symbolicLinkPath)"
   ]
  },
  {
   "cell_type": "code",
   "execution_count": null,
   "metadata": {
    "dotnet_interactive": {
     "language": "csharp"
    },
    "polyglot_notebook": {
     "kernelName": "csharp"
    }
   },
   "outputs": [],
   "source": [
    "var symbolicLinkPath = @\"D:\\test\\src\";\n",
    "GetFinalPathName(symbolicLinkPath)"
   ]
  },
  {
   "cell_type": "code",
   "execution_count": null,
   "metadata": {
    "dotnet_interactive": {
     "language": "csharp"
    },
    "polyglot_notebook": {
     "kernelName": "csharp"
    }
   },
   "outputs": [],
   "source": [
    "using System;\n",
    "using System.IO;\n",
    "using System.Runtime.InteropServices;\n",
    "\n",
    "\n",
    "\n",
    "\n",
    "const int SYMBOLIC_LINK_FLAG_DIRECTORY = 0x1;\n",
    "const int SYMBOLIC_LINK_FLAG_ALLOW_UNPRIVILEGED_CREATE = 0x2;\n",
    "const int MaxShortPath = 260;\n",
    "\n",
    "[LibraryImport(\"kernel32.dll\", EntryPoint = \"CreateSymbolicLinkW\", SetLastError = true, StringMarshalling = StringMarshalling.Utf16)]\n",
    "[return: MarshalAs(UnmanagedType.U1)]\n",
    "partial bool CreateSymbolicLinkPrivate(string lpSymlinkFileName, string lpTargetFileName, int dwFlags);\n",
    "\n",
    "\n",
    "static bool IsPartiallyQualified(ReadOnlySpan<char> path)\n",
    "{\n",
    "    if (path.Length < 2)\n",
    "        return true;\n",
    "\n",
    "    if (IsDirectorySeparator(path[0]))\n",
    "    {\n",
    "        return !(path[1] == '?' || IsDirectorySeparator(path[1]));\n",
    "    }\n",
    "\n",
    "    return !((path.Length >= 3)\n",
    "        && (path[1] == VolumeSeparatorChar)\n",
    "        && IsDirectorySeparator(path[2])\n",
    "        && IsValidDriveChar(path[0]));\n",
    "}\n",
    "\n",
    "\n",
    "static string EnsureExtendedPrefix(string path)\n",
    "{\n",
    "    if (IsPartiallyQualified(path.AsSpan()) || IsDevice(path.AsSpan()))\n",
    "        return path;\n",
    "\n",
    "    // Given \\\\server\\share in longpath becomes \\\\?\\UNC\\server\\share\n",
    "    if (path.StartsWith(UncPathPrefix, StringComparison.OrdinalIgnoreCase))\n",
    "        return path.Insert(2, UncExtendedPrefixToInsert);\n",
    "\n",
    "    return ExtendedPathPrefix + path;\n",
    "}\n",
    "\n",
    "static string EnsureExtendedPrefixIfNeeded(string path)\n",
    "{\n",
    "    if (path != null && (path.Length >= MaxShortPath || EndsWithPeriodOrSpace(path)))\n",
    "    {\n",
    "        return EnsureExtendedPrefix(path);\n",
    "    }\n",
    "    else\n",
    "    {\n",
    "        return path;\n",
    "    }\n",
    "}\n",
    "\n",
    "\n",
    "\n",
    "void CreateSymbolicLink(string symlinkFileName, string targetFileName, bool isDirectory)\n",
    "{\n",
    "    string originalPath = symlinkFileName;\n",
    "    symlinkFileName = PathInternal.EnsureExtendedPrefixIfNeeded(symlinkFileName);\n",
    "    targetFileName = PathInternal.EnsureExtendedPrefixIfNeeded(targetFileName);\n",
    "\n",
    "    int flags = 0;\n",
    "\n",
    "    Version osVersion = Environment.OSVersion.Version;\n",
    "    bool isAtLeastWin10Build14972 = osVersion.Major >= 11 || osVersion.Major == 10 && osVersion.Build >= 14972;\n",
    "\n",
    "    if (isAtLeastWin10Build14972)\n",
    "    {\n",
    "        flags = SYMBOLIC_LINK_FLAG_ALLOW_UNPRIVILEGED_CREATE;\n",
    "    }\n",
    "\n",
    "    if (isDirectory)\n",
    "    {\n",
    "        flags |= SYMBOLIC_LINK_FLAG_DIRECTORY;\n",
    "    }\n",
    "\n",
    "    bool success = CreateSymbolicLinkPrivate(symlinkFileName, targetFileName, flags);\n",
    "\n",
    "    if (!success)\n",
    "    {\n",
    "        throw Win32Marshal.GetExceptionForLastWin32Error(originalPath);\n",
    "    }\n",
    "}"
   ]
  },
  {
   "cell_type": "code",
   "execution_count": null,
   "metadata": {
    "dotnet_interactive": {
     "language": "csharp"
    },
    "polyglot_notebook": {
     "kernelName": "csharp"
    }
   },
   "outputs": [],
   "source": [
    "using System.Runtime.InteropServices;\n",
    "\n",
    "[Flags]\n",
    "enum SYMBOLIC_LINK_FLAG\n",
    "{\n",
    "    File = 0,\n",
    "    Directory = 1,\n",
    "    AllowUnprivilegedCreate = 2\n",
    "}\n",
    "\n",
    "const int SYMBOLIC_LINK_FLAG_ALLOW_UNPRIVILEGED_CREATE = 0x2;\n",
    "const int SYMBOLIC_LINK_FLAG_DIRECTORY = 0x1;\n",
    "\n",
    "[DllImport(\"kernel32.dll\", EntryPoint = \"CreateSymbolicLinkW\", CharSet = CharSet.Unicode, SetLastError = true)]\n",
    "static extern int CreateSymbolicLink(string lpSymlinkFileName, string lpTargetFileName, int dwFlags);\n",
    "\n",
    "\n",
    "bool isDirectory = false;\n",
    "var target = @\"C:\\Program Files\\Google\\Chrome\\Application\\chrome.exe\";\n",
    "\n",
    "Version osVersion = Environment.OSVersion.Version;\n",
    "bool isAtLeastWin10Build14972 = osVersion.Major >= 11 || osVersion.Major == 10 && osVersion.Build >= 14972;\n",
    "\n",
    "int flags = 0;\n",
    "if (isAtLeastWin10Build14972) flags = SYMBOLIC_LINK_FLAG_ALLOW_UNPRIVILEGED_CREATE;\n",
    "if (isDirectory) flags |= SYMBOLIC_LINK_FLAG_DIRECTORY;\n",
    "\n",
    "Console.WriteLine($\"Using flags {flags}\");\n",
    "\n",
    "var result = CreateSymbolicLink(@\"D:\\test\\chrome.lnk\", target, flags);\n",
    "if (result == 1)\n",
    "    Console.WriteLine(\"Created\");\n",
    "else\n",
    "{\n",
    "    int w32Error = Marshal.GetLastWin32Error(); //we can return 0; this will always be some positive value\n",
    "    Console.WriteLine($\"Failed with {w32Error}\");\n",
    "}"
   ]
  }
 ],
 "metadata": {
  "kernelspec": {
   "display_name": ".NET (C#)",
   "language": "C#",
   "name": ".net-csharp"
  },
  "language_info": {
   "name": "polyglot-notebook"
  },
  "orig_nbformat": 4,
  "polyglot_notebook": {
   "kernelInfo": {
    "defaultKernelName": "csharp",
    "items": [
     {
      "aliases": [],
      "name": "csharp"
     }
    ]
   }
  }
 },
 "nbformat": 4,
 "nbformat_minor": 2
}
