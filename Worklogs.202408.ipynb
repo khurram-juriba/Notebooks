{
 "cells": [
  {
   "cell_type": "markdown",
   "metadata": {},
   "source": [
    "# Setup"
   ]
  },
  {
   "cell_type": "code",
   "execution_count": null,
   "metadata": {
    "dotnet_interactive": {
     "language": "csharp"
    },
    "polyglot_notebook": {
     "kernelName": "csharp"
    },
    "vscode": {
     "languageId": "polyglot-notebook"
    }
   },
   "outputs": [],
   "source": [
    "#r \"nuget: Dapplo.Jira, *-*\""
   ]
  },
  {
   "cell_type": "code",
   "execution_count": null,
   "metadata": {
    "dotnet_interactive": {
     "language": "csharp"
    },
    "polyglot_notebook": {
     "kernelName": "csharp"
    },
    "vscode": {
     "languageId": "polyglot-notebook"
    }
   },
   "outputs": [],
   "source": [
    "var url = Environment.GetEnvironmentVariable(\"JIRA_URL\");\n",
    "var user = Environment.GetEnvironmentVariable(\"JIRA_USER\");\n",
    "var token = Environment.GetEnvironmentVariable(\"JIRA_TOKEN\");"
   ]
  },
  {
   "cell_type": "code",
   "execution_count": null,
   "metadata": {
    "dotnet_interactive": {
     "language": "csharp"
    },
    "polyglot_notebook": {
     "kernelName": "csharp"
    },
    "vscode": {
     "languageId": "polyglot-notebook"
    }
   },
   "outputs": [],
   "source": [
    "using Dapplo.Jira;\n",
    "using Dapplo.Jira.Entities;\n",
    "using Dapplo.Jira.Query;\n",
    "\n",
    "IJiraClient jiraClient = JiraClient.Create(new Uri(url));\n",
    "jiraClient.SetBasicAuthentication(user, token);\n",
    "\n",
    "var fields = await jiraClient.Server.GetFieldsAsync();"
   ]
  },
  {
   "cell_type": "markdown",
   "metadata": {},
   "source": [
    "# Leaves"
   ]
  },
  {
   "cell_type": "code",
   "execution_count": null,
   "metadata": {
    "dotnet_interactive": {
     "language": "csharp"
    },
    "polyglot_notebook": {
     "kernelName": "csharp"
    },
    "vscode": {
     "languageId": "polyglot-notebook"
    }
   },
   "outputs": [],
   "source": [
    "var workLogs = new []\n",
    "{\n",
    "    new Worklog { Started = new DateTimeOffset(2024, 8, 14, 0, 0, 0, TimeSpan.Zero), TimeSpentSeconds = 8 * 60 * 60, Comment = \"National Holiday\" },\n",
    "    new Worklog { Started = new DateTimeOffset(2024, 8, 15, 0, 0, 0, TimeSpan.Zero), TimeSpentSeconds = 8 * 60 * 60, Comment = \"Annual Leave\" },\n",
    "    new Worklog { Started = new DateTimeOffset(2024, 8, 16, 0, 0, 0, TimeSpan.Zero), TimeSpentSeconds = 8 * 60 * 60, Comment = \"Annual Leave\" }\n",
    "};\n",
    "\n",
    "foreach(var workLog in workLogs)\n",
    "    await jiraClient.WorkLog.CreateAsync(\"AA-6507\", workLog);"
   ]
  },
  {
   "cell_type": "markdown",
   "metadata": {},
   "source": [
    "# Agile Ceremonies"
   ]
  },
  {
   "cell_type": "code",
   "execution_count": null,
   "metadata": {
    "dotnet_interactive": {
     "language": "csharp"
    },
    "polyglot_notebook": {
     "kernelName": "csharp"
    },
    "vscode": {
     "languageId": "polyglot-notebook"
    }
   },
   "outputs": [],
   "source": [
    "var keyAgileCeremonies = \"AA-6504\";"
   ]
  },
  {
   "cell_type": "markdown",
   "metadata": {},
   "source": [
    "## Plannings, Reviews & Retros"
   ]
  },
  {
   "cell_type": "code",
   "execution_count": null,
   "metadata": {
    "dotnet_interactive": {
     "language": "csharp"
    },
    "polyglot_notebook": {
     "kernelName": "csharp"
    },
    "vscode": {
     "languageId": "polyglot-notebook"
    }
   },
   "outputs": [],
   "source": [
    "var workLogs = new []\n",
    "{\n",
    "    new Worklog { Started = new DateTimeOffset(2024, 8, 12, 0, 0, 0, TimeSpan.Zero), TimeSpentSeconds = (60 + 30) * 60, Comment = \"Sprint Planning H1\" },\n",
    "    new Worklog { Started = new DateTimeOffset(2024, 8, 26, 0, 0, 0, TimeSpan.Zero), TimeSpentSeconds = (60 + 27) * 60, Comment = \"Sprint Planning H2\" },\n",
    "\n",
    "    new Worklog { Started = new DateTimeOffset(2024, 8, 9, 0, 0, 0, TimeSpan.Zero), TimeSpentSeconds = (60 + 5) * 60, Comment = \"Sprint Review\" },\n",
    "    new Worklog { Started = new DateTimeOffset(2024, 8, 23, 0, 0, 0, TimeSpan.Zero), TimeSpentSeconds = (60 + 12) * 60, Comment = \"Sprint Review\" },\n",
    "\n",
    "    // Annual Leave\n",
    "    new Worklog { Started = new DateTimeOffset(2024, 8, 27, 0, 0, 0, TimeSpan.Zero), TimeSpentSeconds = (60 + 5) * 60, Comment = \"Retro H1\" }\n",
    "};\n",
    "\n",
    "foreach(var workLog in workLogs)\n",
    "    await jiraClient.WorkLog.CreateAsync(keyAgileCeremonies, workLog);"
   ]
  },
  {
   "cell_type": "markdown",
   "metadata": {},
   "source": [
    "## Backlog and Story Times"
   ]
  },
  {
   "cell_type": "code",
   "execution_count": null,
   "metadata": {
    "dotnet_interactive": {
     "language": "csharp"
    },
    "polyglot_notebook": {
     "kernelName": "csharp"
    },
    "vscode": {
     "languageId": "polyglot-notebook"
    }
   },
   "outputs": [],
   "source": [
    "var workLogs = new []\n",
    "{\n",
    "    new Worklog { Started = new DateTimeOffset(2024, 8, 1, 0, 0, 0, TimeSpan.Zero), TimeSpentSeconds = (60 + 12) * 60, Comment = \"Backlog Refinement\" },\n",
    "\n",
    "    new Worklog { Started = new DateTimeOffset(2024, 8, 6, 0, 0, 0, TimeSpan.Zero), TimeSpentSeconds = (60 + 20) * 60, Comment = \"Backlog Refinement\" },\n",
    "    new Worklog { Started = new DateTimeOffset(2024, 8, 8, 0, 0, 0, TimeSpan.Zero), TimeSpentSeconds = (60) * 60, Comment = \"Backlog Refinement\" },\n",
    "\n",
    "    new Worklog { Started = new DateTimeOffset(2024, 8, 13, 0, 0, 0, TimeSpan.Zero), TimeSpentSeconds = (60 + 20) * 60, Comment = \"Backlog Refinement\" },\n",
    "    // Annual Leave\n",
    "\n",
    "    new Worklog { Started = new DateTimeOffset(2024, 8, 20, 0, 0, 0, TimeSpan.Zero), TimeSpentSeconds = (60 + 20) * 60, Comment = \"Backlog Refinement\" },\n",
    "    new Worklog { Started = new DateTimeOffset(2024, 8, 22, 0, 0, 0, TimeSpan.Zero), TimeSpentSeconds = (60 + 12) * 60, Comment = \"Backlog Refinement\" },\n",
    "\n",
    "    new Worklog { Started = new DateTimeOffset(2024, 8, 27, 0, 0, 0, TimeSpan.Zero), TimeSpentSeconds = (60 + 8) * 60, Comment = \"Backlog Refinement\" },\n",
    "    new Worklog { Started = new DateTimeOffset(2024, 8, 29, 0, 0, 0, TimeSpan.Zero), TimeSpentSeconds = (60 + 21) * 60, Comment = \"Backlog Refinement\" }\n",
    "};\n",
    "\n",
    "foreach(var workLog in workLogs)\n",
    "    await jiraClient.WorkLog.CreateAsync(keyAgileCeremonies, workLog);"
   ]
  },
  {
   "cell_type": "markdown",
   "metadata": {},
   "source": [
    "## Standups"
   ]
  },
  {
   "cell_type": "code",
   "execution_count": null,
   "metadata": {
    "dotnet_interactive": {
     "language": "csharp"
    },
    "polyglot_notebook": {
     "kernelName": "csharp"
    },
    "vscode": {
     "languageId": "polyglot-notebook"
    }
   },
   "outputs": [],
   "source": [
    "var workLogs = new []\n",
    "{\n",
    "    new Worklog { Started = new DateTimeOffset(2024, 8, 1, 0, 0, 0, TimeSpan.Zero), TimeSpentSeconds = 15 * 60, Comment = \"Standup\" }\n",
    "    new Worklog { Started = new DateTimeOffset(2024, 8, 2, 0, 0, 0, TimeSpan.Zero), TimeSpentSeconds = 22 * 60, Comment = \"Standup\" },\n",
    "\n",
    "    new Worklog { Started = new DateTimeOffset(2024, 8, 5, 0, 0, 0, TimeSpan.Zero), TimeSpentSeconds = 15 * 60, Comment = \"Standup\" },\n",
    "    new Worklog { Started = new DateTimeOffset(2024, 8, 6, 0, 0, 0, TimeSpan.Zero), TimeSpentSeconds = 15 * 60, Comment = \"Standup\" },\n",
    "    new Worklog { Started = new DateTimeOffset(2024, 8, 7, 0, 0, 0, TimeSpan.Zero), TimeSpentSeconds = 15 * 60, Comment = \"Standup\" },\n",
    "    new Worklog { Started = new DateTimeOffset(2024, 8, 8, 0, 0, 0, TimeSpan.Zero), TimeSpentSeconds = 15 * 60, Comment = \"Standup\" },\n",
    "    new Worklog { Started = new DateTimeOffset(2024, 8, 9, 0, 0, 0, TimeSpan.Zero), TimeSpentSeconds = 50 * 60, Comment = \"Standup\" },\n",
    "\n",
    "    // Sprint Start\n",
    "    new Worklog { Started = new DateTimeOffset(2024, 8, 13, 0, 0, 0, TimeSpan.Zero), TimeSpentSeconds = 15 * 60, Comment = \"Standup\" },\n",
    "    // National Holiday\n",
    "    // Annual Leave\n",
    "    // Annual Leave\n",
    "\n",
    "    new Worklog { Started = new DateTimeOffset(2024, 8, 19, 0, 0, 0, TimeSpan.Zero), TimeSpentSeconds = 22 * 60, Comment = \"Standup\" },\n",
    "    new Worklog { Started = new DateTimeOffset(2024, 8, 20, 0, 0, 0, TimeSpan.Zero), TimeSpentSeconds = 35 * 60, Comment = \"Standup\" },\n",
    "    new Worklog { Started = new DateTimeOffset(2024, 8, 21, 0, 0, 0, TimeSpan.Zero), TimeSpentSeconds = 15 * 60, Comment = \"Standup\" },\n",
    "    new Worklog { Started = new DateTimeOffset(2024, 8, 22, 0, 0, 0, TimeSpan.Zero), TimeSpentSeconds = 37 * 60, Comment = \"Standup\" },\n",
    "    new Worklog { Started = new DateTimeOffset(2024, 8, 23, 0, 0, 0, TimeSpan.Zero), TimeSpentSeconds = 15 * 60, Comment = \"Standup\" },\n",
    "\n",
    "    // Sprint Start\n",
    "    new Worklog { Started = new DateTimeOffset(2024, 8, 27, 0, 0, 0, TimeSpan.Zero), TimeSpentSeconds = 15 * 60, Comment = \"Standup\" },\n",
    "    new Worklog { Started = new DateTimeOffset(2024, 8, 28, 0, 0, 0, TimeSpan.Zero), TimeSpentSeconds = 30 * 60, Comment = \"Standup\" },\n",
    "    new Worklog { Started = new DateTimeOffset(2024, 8, 29, 0, 0, 0, TimeSpan.Zero), TimeSpentSeconds = 15 * 60, Comment = \"Standup\" },\n",
    "    new Worklog { Started = new DateTimeOffset(2024, 8, 30, 0, 0, 0, TimeSpan.Zero), TimeSpentSeconds = 15 * 60, Comment = \"Standup\" },\n",
    "};\n",
    "\n",
    "foreach(var workLog in workLogs)\n",
    "    await jiraClient.WorkLog.CreateAsync(keyAgileCeremonies, workLog);"
   ]
  },
  {
   "cell_type": "markdown",
   "metadata": {},
   "source": [
    "## Line Management"
   ]
  },
  {
   "cell_type": "markdown",
   "metadata": {},
   "source": [
    "## Product Management"
   ]
  },
  {
   "cell_type": "markdown",
   "metadata": {},
   "source": [
    "## Environment & Builds"
   ]
  },
  {
   "cell_type": "markdown",
   "metadata": {},
   "source": [
    "## Meetings"
   ]
  },
  {
   "cell_type": "code",
   "execution_count": 4,
   "metadata": {
    "dotnet_interactive": {
     "language": "csharp"
    },
    "polyglot_notebook": {
     "kernelName": "csharp"
    },
    "vscode": {
     "languageId": "polyglot-notebook"
    }
   },
   "outputs": [],
   "source": [
    "var keyMeetings = \"AA-6505\";"
   ]
  },
  {
   "cell_type": "markdown",
   "metadata": {},
   "source": [
    "### uWorx"
   ]
  },
  {
   "cell_type": "code",
   "execution_count": null,
   "metadata": {
    "dotnet_interactive": {
     "language": "csharp"
    },
    "polyglot_notebook": {
     "kernelName": "csharp"
    },
    "vscode": {
     "languageId": "polyglot-notebook"
    }
   },
   "outputs": [],
   "source": [
    "var workLogs = new []\n",
    "{\n",
    "    new Worklog { Started = new DateTimeOffset(2024, 8, 13, 0, 0, 0, TimeSpan.Zero), TimeSpentSeconds = 30 * 60, Comment = \"uWorx Fortnightly\" },\n",
    "    new Worklog { Started = new DateTimeOffset(2024, 8, 27, 0, 0, 0, TimeSpan.Zero), TimeSpentSeconds = 17 * 60, Comment = \"uWorx Fortnightly\" },\n",
    "\n",
    "    new Worklog { Started = new DateTimeOffset(2024, 8, 19, 0, 0, 0, TimeSpan.Zero), TimeSpentSeconds = 60 * 60, Comment = \"uWorx Generative AI /w .NET Sessions\" },\n",
    "    new Worklog { Started = new DateTimeOffset(2024, 8, 28, 0, 0, 0, TimeSpan.Zero), TimeSpentSeconds = 60 * 60, Comment = \"uWorx Generative AI /w .NET Sessions\" }\n",
    "};\n",
    "\n",
    "foreach(var workLog in workLogs)\n",
    "    await jiraClient.WorkLog.CreateAsync(keyMeetings, workLog);"
   ]
  },
  {
   "cell_type": "markdown",
   "metadata": {},
   "source": [
    "### Sync up Khurram/Kiran"
   ]
  },
  {
   "cell_type": "code",
   "execution_count": null,
   "metadata": {
    "dotnet_interactive": {
     "language": "csharp"
    },
    "polyglot_notebook": {
     "kernelName": "csharp"
    },
    "vscode": {
     "languageId": "polyglot-notebook"
    }
   },
   "outputs": [],
   "source": [
    "var comment = \"Sync up Khurram/Kiran\";\n",
    "var workLogs = new []\n",
    "{\n",
    "    new Worklog { Started = new DateTimeOffset(2024, 8, 1, 0, 0, 0, TimeSpan.Zero), TimeSpentSeconds = 30 * 60, Comment = comment },\n",
    "\n",
    "    new Worklog { Started = new DateTimeOffset(2024, 8, 6, 0, 0, 0, TimeSpan.Zero), TimeSpentSeconds = 30 * 60, Comment = comment },\n",
    "    new Worklog { Started = new DateTimeOffset(2024, 8, 8, 0, 0, 0, TimeSpan.Zero), TimeSpentSeconds = 30 * 60, Comment = comment },\n",
    "\n",
    "    new Worklog { Started = new DateTimeOffset(2024, 8, 13, 0, 0, 0, TimeSpan.Zero), TimeSpentSeconds = 30 * 60, Comment = comment },\n",
    "    // Annual Leave\n",
    "\n",
    "    new Worklog { Started = new DateTimeOffset(2024, 8, 20, 0, 0, 0, TimeSpan.Zero), TimeSpentSeconds = 30 * 60, Comment = comment },\n",
    "    new Worklog { Started = new DateTimeOffset(2024, 8, 22, 0, 0, 0, TimeSpan.Zero), TimeSpentSeconds = 30 * 60, Comment = comment },\n",
    "\n",
    "    new Worklog { Started = new DateTimeOffset(2024, 8, 27, 0, 0, 0, TimeSpan.Zero), TimeSpentSeconds = 30 * 60, Comment = comment },\n",
    "    new Worklog { Started = new DateTimeOffset(2024, 8, 29, 0, 0, 0, TimeSpan.Zero), TimeSpentSeconds = 30 * 60, Comment = comment }\n",
    "};\n",
    "\n",
    "foreach(var workLog in workLogs)\n",
    "    await jiraClient.WorkLog.CreateAsync(keyMeetings, workLog);"
   ]
  },
  {
   "cell_type": "markdown",
   "metadata": {},
   "source": [
    "### AppM Triage"
   ]
  },
  {
   "cell_type": "markdown",
   "metadata": {},
   "source": [
    "### Engineering"
   ]
  },
  {
   "cell_type": "markdown",
   "metadata": {},
   "source": [
    "# Calls"
   ]
  },
  {
   "cell_type": "code",
   "execution_count": 5,
   "metadata": {
    "dotnet_interactive": {
     "language": "csharp"
    },
    "polyglot_notebook": {
     "kernelName": "csharp"
    },
    "vscode": {
     "languageId": "polyglot-notebook"
    }
   },
   "outputs": [],
   "source": [
    "var workLogs = new []\n",
    "{\n",
    "    new Worklog { Started = new DateTimeOffset(2024, 8, 1, 0, 0, 0, TimeSpan.Zero), TimeSpentSeconds = 10 * 60, Comment = \"Call /w Shahbaz\" },\n",
    "\n",
    "    new Worklog { Started = new DateTimeOffset(2024, 8, 2, 0, 0, 0, TimeSpan.Zero), TimeSpentSeconds = 15 * 60, Comment = \"Calls /w Mohammad and Raffay\" },\n",
    "\n",
    "    new Worklog { Started = new DateTimeOffset(2024, 8, 5, 0, 0, 0, TimeSpan.Zero), TimeSpentSeconds = 20 * 60, Comment = \"Call /w Shahbaz\" },\n",
    "    new Worklog { Started = new DateTimeOffset(2024, 8, 5, 0, 0, 0, TimeSpan.Zero), TimeSpentSeconds = 50 * 60, Comment = \"Call /w Mohammad\" },\n",
    "    new Worklog { Started = new DateTimeOffset(2024, 8, 5, 0, 0, 0, TimeSpan.Zero), TimeSpentSeconds = 40 * 60, Comment = \"Call /w Samia\" },\n",
    "\n",
    "    new Worklog { Started = new DateTimeOffset(2024, 8, 6, 0, 0, 0, TimeSpan.Zero), TimeSpentSeconds = 30 * 60, Comment = \"Call /w Sakina\" },\n",
    "    new Worklog { Started = new DateTimeOffset(2024, 8, 6, 0, 0, 0, TimeSpan.Zero), TimeSpentSeconds = 20 * 60, Comment = \"Call /w Mohammad\" },\n",
    "\n",
    "    new Worklog { Started = new DateTimeOffset(2024, 8, 7, 0, 0, 0, TimeSpan.Zero), TimeSpentSeconds = 15 * 60, Comment = \"Call /w Mohammad\" },\n",
    "\n",
    "    new Worklog { Started = new DateTimeOffset(2024, 8, 9, 0, 0, 0, TimeSpan.Zero), TimeSpentSeconds = 30 * 60, Comment = \"Call /w Samia\" },\n",
    "    new Worklog { Started = new DateTimeOffset(2024, 8, 9, 0, 0, 0, TimeSpan.Zero), TimeSpentSeconds = 20 * 60, Comment = \"Call /w Shahbaz\" },\n",
    "    new Worklog { Started = new DateTimeOffset(2024, 8, 9, 0, 0, 0, TimeSpan.Zero), TimeSpentSeconds = 10 * 60, Comment = \"Call /w Mohammad\" },\n",
    "\n",
    "    new Worklog { Started = new DateTimeOffset(2024, 8, 12, 0, 0, 0, TimeSpan.Zero), TimeSpentSeconds = 35 * 60, Comment = \"Call /w Hai\" },\n",
    "    new Worklog { Started = new DateTimeOffset(2024, 8, 12, 0, 0, 0, TimeSpan.Zero), TimeSpentSeconds = 15 * 60, Comment = \"Call /w Mohammad\" },\n",
    "    new Worklog { Started = new DateTimeOffset(2024, 8, 12, 0, 0, 0, TimeSpan.Zero), TimeSpentSeconds = 30 * 60, Comment = \"Call /w Shahbaz\" },\n",
    "\n",
    "    new Worklog { Started = new DateTimeOffset(2024, 8, 13, 0, 0, 0, TimeSpan.Zero), TimeSpentSeconds = 55 * 60, Comment = \"Call /w Mohammad\" },\n",
    "    new Worklog { Started = new DateTimeOffset(2024, 8, 13, 0, 0, 0, TimeSpan.Zero), TimeSpentSeconds = 20 * 60, Comment = \"Call /w Sakina\" },\n",
    "    new Worklog { Started = new DateTimeOffset(2024, 8, 13, 0, 0, 0, TimeSpan.Zero), TimeSpentSeconds = 50 * 60, Comment = \"Call /w Shahbaz\" },\n",
    "    new Worklog { Started = new DateTimeOffset(2024, 8, 13, 0, 0, 0, TimeSpan.Zero), TimeSpentSeconds = 15 * 60, Comment = \"Call /w Sana\" },\n",
    "\n",
    "    // LEAVES\n",
    "\n",
    "    new Worklog { Started = new DateTimeOffset(2024, 8, 19, 0, 0, 0, TimeSpan.Zero), TimeSpentSeconds = 30 * 60, Comment = \"Call /w Mohammad\" },\n",
    "\n",
    "    new Worklog { Started = new DateTimeOffset(2024, 8, 20, 0, 0, 0, TimeSpan.Zero), TimeSpentSeconds = 30 * 60, Comment = \"Call /w Shahbaz\" },\n",
    "    new Worklog { Started = new DateTimeOffset(2024, 8, 20, 0, 0, 0, TimeSpan.Zero), TimeSpentSeconds = 15 * 60, Comment = \"Call /w Mohammad\" },\n",
    "    new Worklog { Started = new DateTimeOffset(2024, 8, 20, 0, 0, 0, TimeSpan.Zero), TimeSpentSeconds = 15 * 60, Comment = \"Call /w Sakina\" },\n",
    "\n",
    "    new Worklog { Started = new DateTimeOffset(2024, 8, 23, 0, 0, 0, TimeSpan.Zero), TimeSpentSeconds = 15 * 60, Comment = \"Call /w Mohammad\" },\n",
    "\n",
    "    new Worklog { Started = new DateTimeOffset(2024, 8, 26, 0, 0, 0, TimeSpan.Zero), TimeSpentSeconds = 15 * 60, Comment = \"Call /w Mohammad\" },\n",
    "    new Worklog { Started = new DateTimeOffset(2024, 8, 26, 0, 0, 0, TimeSpan.Zero), TimeSpentSeconds = 10 * 60, Comment = \"Call /w Hai\" },\n",
    "    new Worklog { Started = new DateTimeOffset(2024, 8, 26, 0, 0, 0, TimeSpan.Zero), TimeSpentSeconds = 30 * 60, Comment = \"Call /w Shahbaz\" },\n",
    "\n",
    "    new Worklog { Started = new DateTimeOffset(2024, 8, 27, 0, 0, 0, TimeSpan.Zero), TimeSpentSeconds = 30 * 60, Comment = \"Call /w Mohammad\" },\n",
    "    new Worklog { Started = new DateTimeOffset(2024, 8, 27, 0, 0, 0, TimeSpan.Zero), TimeSpentSeconds = 15 * 60, Comment = \"Call /w Shahbaz\" },\n",
    "\n",
    "    new Worklog { Started = new DateTimeOffset(2024, 8, 28, 0, 0, 0, TimeSpan.Zero), TimeSpentSeconds = 30 * 60, Comment = \"Call /w Mohammad\" },\n",
    "    new Worklog { Started = new DateTimeOffset(2024, 8, 28, 0, 0, 0, TimeSpan.Zero), TimeSpentSeconds = 15 * 60, Comment = \"Call /w Sakina\" },\n",
    "\n",
    "    new Worklog { Started = new DateTimeOffset(2024, 8, 28, 0, 0, 0, TimeSpan.Zero), TimeSpentSeconds = 30 * 60, Comment = \"Call /w Mohammad\" },\n",
    "    new Worklog { Started = new DateTimeOffset(2024, 8, 28, 0, 0, 0, TimeSpan.Zero), TimeSpentSeconds = 10 * 60, Comment = \"Call /w Sakina\" },\n",
    "\n",
    "    new Worklog { Started = new DateTimeOffset(2024, 8, 29, 0, 0, 0, TimeSpan.Zero), TimeSpentSeconds = 20 * 60, Comment = \"Call /w Samia\" },\n",
    "    new Worklog { Started = new DateTimeOffset(2024, 8, 29, 0, 0, 0, TimeSpan.Zero), TimeSpentSeconds = 10 * 60, Comment = \"Call /w Sakina\" }\n",
    "};\n",
    "\n",
    "foreach(var workLog in workLogs)\n",
    "    await jiraClient.WorkLog.CreateAsync(keyMeetings, workLog);"
   ]
  },
  {
   "cell_type": "markdown",
   "metadata": {},
   "source": [
    "# PRs"
   ]
  },
  {
   "cell_type": "markdown",
   "metadata": {},
   "source": [
    "# The Work"
   ]
  }
 ],
 "metadata": {
  "kernelspec": {
   "display_name": ".NET (C#)",
   "language": "C#",
   "name": ".net-csharp"
  },
  "language_info": {
   "name": "powershell"
  },
  "orig_nbformat": 4,
  "polyglot_notebook": {
   "kernelInfo": {
    "defaultKernelName": "csharp",
    "items": [
     {
      "aliases": [],
      "name": "csharp"
     }
    ]
   }
  }
 },
 "nbformat": 4,
 "nbformat_minor": 2
}
